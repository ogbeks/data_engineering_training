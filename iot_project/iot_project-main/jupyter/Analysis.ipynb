{
 "cells": [
  {
   "cell_type": "code",
   "execution_count": 7,
   "id": "42a47be5-f2ee-48fb-84e5-362546f02b91",
   "metadata": {
    "tags": []
   },
   "outputs": [
    {
     "name": "stdout",
     "output_type": "stream",
     "text": [
      "    meterId                date          kwh\n",
      "10      100 2023-02-23 12:00:00  1806.958178\n",
      "14      103 2023-02-25 12:00:00  1726.942838\n",
      "17      109 2023-01-27 12:00:00  1684.509744\n",
      "11      102 2023-01-06 12:00:00  1538.318613\n",
      "13      105 2023-02-14 12:00:00  1463.175021\n",
      "15      106 2023-02-10 12:00:00  1453.326635\n",
      "16      108 2023-01-05 12:00:00  1203.605144\n",
      "18      101 2023-02-23 12:00:00  1072.702595\n",
      "12      104 2022-12-24 12:00:00   940.140810\n",
      "19      107 2023-02-04 12:00:00   933.805228\n",
      "2         4 2023-02-02 12:00:00   367.901238\n",
      "0         0 2023-02-19 12:00:00   365.049722\n",
      "4         7 2022-12-25 12:00:00   364.236344\n",
      "8         2 2023-02-10 12:00:00   364.196733\n",
      "1         5 2023-01-19 12:00:00   363.686852\n",
      "5         6 2023-01-13 12:00:00   363.454974\n",
      "3         8 2023-02-05 12:00:00   359.554738\n",
      "7         1 2023-01-18 12:00:00   356.661270\n",
      "6         3 2023-01-24 12:00:00   354.201486\n",
      "9         9 2023-02-26 12:00:00   354.003049\n"
     ]
    }
   ],
   "source": [
    "#!/usr/bin/python3.6\n",
    "\n",
    "import sys\n",
    "import time\n",
    "import re\n",
    "import datetime\n",
    "import pandas\n",
    "import griddb_python\n",
    "\n",
    "griddb = griddb_python\n",
    "factory = griddb.StoreFactory.get_instance()\n",
    "\n",
    "argv = sys.argv\n",
    "\n",
    "gridstore = factory.get_store(\n",
    "    notification_member=\"griddb-server:10001\",\n",
    "    port=31999,\n",
    "    cluster_name=\"myCluster\",\n",
    "    username=\"admin\",\n",
    "    password=\"admin\"\n",
    ")\n",
    " \n",
    "\n",
    "ts = gridstore.get_container(\"meters\")\n",
    "query = ts.query(\"select * \") \n",
    "rs = query.fetch(False) \n",
    "\n",
    "rows = []\n",
    "while rs.has_next():\n",
    "    meter = rs.next()\n",
    "    bts = gridstore.get_container(\"bill_\"+str(meter[0]))\n",
    "    bquery = bts.query(\"select * order by total_kwh desc limit 1\") \n",
    "    brs = bquery.fetch(False)\n",
    "    while brs.has_next():\n",
    "        bill=brs.next()\n",
    "        rows.append({\"meterId\": meter[0], \"date\": bill[0], \"kwh\": bill[1]}) \n",
    "df = pandas.DataFrame(rows)\n",
    "print(df.sort_values('kwh', ascending=False))"
   ]
  },
  {
   "cell_type": "code",
   "execution_count": null,
   "id": "c6e29ccc-53a6-4909-a66c-ba21ec35355a",
   "metadata": {},
   "outputs": [],
   "source": []
  },
  {
   "cell_type": "code",
   "execution_count": null,
   "id": "e5de6922-c866-45b5-b733-e276618fcd08",
   "metadata": {},
   "outputs": [],
   "source": []
  }
 ],
 "metadata": {
  "kernelspec": {
   "display_name": "Python 3 (ipykernel)",
   "language": "python",
   "name": "python3"
  },
  "language_info": {
   "codemirror_mode": {
    "name": "ipython",
    "version": 3
   },
   "file_extension": ".py",
   "mimetype": "text/x-python",
   "name": "python",
   "nbconvert_exporter": "python",
   "pygments_lexer": "ipython3",
   "version": "3.10.9"
  }
 },
 "nbformat": 4,
 "nbformat_minor": 5
}
